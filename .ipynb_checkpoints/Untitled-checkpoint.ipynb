{
 "cells": [
  {
   "cell_type": "code",
   "execution_count": 1,
   "id": "7408c8d5-29ec-42dd-8e71-a358b32d0436",
   "metadata": {},
   "outputs": [
    {
     "name": "stdout",
     "output_type": "stream",
     "text": [
      "[main 2677619] feat: creates NavBar.vue\n",
      " 1 file changed, 13 insertions(+)\n",
      " create mode 100644 components/NavBar.vue\n",
      "Committed NavBar.vue with message: feat: creates NavBar.vue\n",
      "[main 23b5337] feat: creates HeroSection.vue\n",
      " 1 file changed, 17 insertions(+)\n",
      " create mode 100644 components/HeroSection.vue\n",
      "Committed HeroSection.vue with message: feat: creates HeroSection.vue\n",
      "[main 4fc482b] feat: creates CompanyBanner.vue\n",
      " 1 file changed, 23 insertions(+)\n",
      " create mode 100644 components/CompanyBanner.vue\n",
      "Committed CompanyBanner.vue with message: feat: creates CompanyBanner.vue\n",
      "[main 9931bd9] feat: creates SkillsSection.vue\n",
      " 1 file changed, 31 insertions(+)\n",
      " create mode 100644 components/SkillsSection.vue\n",
      "Committed SkillsSection.vue with message: feat: creates SkillsSection.vue\n",
      "[main a00dd93] feat: creates GallerySection.vue\n",
      " 1 file changed, 30 insertions(+)\n",
      " create mode 100644 components/GallerySection.vue\n",
      "Committed GallerySection.vue with message: feat: creates GallerySection.vue\n",
      "[main c8cb4e8] feat: creates Testimonial.vue\n",
      " 1 file changed, 16 insertions(+)\n",
      " create mode 100644 components/Testimonial.vue\n",
      "Committed Testimonial.vue with message: feat: creates Testimonial.vue\n"
     ]
    }
   ],
   "source": [
    "import os\n",
    "import subprocess\n",
    "\n",
    "def commit_files(directory):\n",
    "    # List all files in the given directory\n",
    "    files = [f for f in os.listdir(directory) if os.path.isfile(os.path.join(directory, f))]\n",
    "\n",
    "    for filename in files:\n",
    "        file_path = os.path.join(directory, filename)\n",
    "        \n",
    "        # Stage the file\n",
    "        subprocess.run(['git', 'add', file_path], check=True)\n",
    "        \n",
    "        # Commit the file with the appropriate message\n",
    "        commit_message = f\"feat: creates {filename}\"\n",
    "        subprocess.run(['git', 'commit', '-m', commit_message], check=True)\n",
    "        \n",
    "        print(f\"Committed {filename} with message: {commit_message}\")\n",
    "\n",
    "if __name__ == \"__main__\":\n",
    "    # Specify the directory containing your files\n",
    "    directory = '/home/domalasherpa/programs/nuxt_js/pages'\n",
    "    commit_files(directory)\n"
   ]
  }
 ],
 "metadata": {
  "kernelspec": {
   "display_name": "Python 3 (ipykernel)",
   "language": "python",
   "name": "python3"
  },
  "language_info": {
   "codemirror_mode": {
    "name": "ipython",
    "version": 3
   },
   "file_extension": ".py",
   "mimetype": "text/x-python",
   "name": "python",
   "nbconvert_exporter": "python",
   "pygments_lexer": "ipython3",
   "version": "3.12.5"
  }
 },
 "nbformat": 4,
 "nbformat_minor": 5
}
